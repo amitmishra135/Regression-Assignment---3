{
 "cells": [
  {
   "cell_type": "markdown",
   "id": "7f8cf2a4-1bfb-4fb2-8776-83c6e5a8ce55",
   "metadata": {},
   "source": [
    "Q1. What is Ridge Regression, and how does it differ from ordinary least squares regression?\n",
    "\n",
    "Answer ->"
   ]
  },
  {
   "cell_type": "markdown",
   "id": "1785a90c-1700-407d-be77-ecc474f33bb1",
   "metadata": {},
   "source": [
    "Ridge Regression is a type of linear regression that includes a regularization term to prevent overfitting by penalizing large coefficients. \n",
    "Unlike ordinary least squares (OLS) regression, which minimizes the sum of squared residuals, Ridge Regression minimizes the sum of squared \n",
    "residuals plus the squared magnitude of the coefficients multiplied by a tuning parameter (lambda).\n"
   ]
  },
  {
   "cell_type": "markdown",
   "id": "648f3b08-0958-4dbb-bc5b-9e5a43239062",
   "metadata": {},
   "source": [
    "Q2. What are the assumptions of Ridge Regression?\n",
    "\n",
    "Answer ->"
   ]
  },
  {
   "cell_type": "markdown",
   "id": "7807a6b4-6f15-4a01-8df6-ee789b153ff3",
   "metadata": {},
   "source": [
    "* Linearity: The relationship between the independent and dependent variables is linear.\n",
    "* Independence: The residuals are independent.\n",
    "* Homoscedasticity: Constant variance of the errors.\n",
    "* No perfect multicollinearity: Independent variables are not perfectly collinear."
   ]
  },
  {
   "cell_type": "markdown",
   "id": "6f673a2e-0bf4-44bf-8259-577ce2d27762",
   "metadata": {},
   "source": [
    "Q3. How do you select the value of the tuning parameter (lambda) in Ridge Regression?\n",
    "\n",
    "Answer ->"
   ]
  },
  {
   "cell_type": "markdown",
   "id": "e3e83850-afd8-4619-9449-13afffb0c0d1",
   "metadata": {},
   "source": [
    "The value of lambda is typically selected using cross-validation, where the dataset is split into training and validation sets multiple times \n",
    "to find the lambda that minimizes the validation error.\n"
   ]
  },
  {
   "cell_type": "code",
   "execution_count": null,
   "id": "136464a8-8e7a-481f-96fb-3bec1ed8ad40",
   "metadata": {},
   "outputs": [],
   "source": [
    "Q4. Can Ridge Regression be used for feature selection? If yes, how?\n",
    "\n",
    "Answer ->"
   ]
  },
  {
   "cell_type": "markdown",
   "id": "a1693659-3a76-4aa1-9476-64771713dfe7",
   "metadata": {},
   "source": [
    "Indirectly, yes. Ridge Regression shrinks the coefficients of less important features towards zero but does not set them to zero. \n",
    "It can highlight the relative importance of features but is not as effective for feature selection as Lasso Regression.\n"
   ]
  },
  {
   "cell_type": "markdown",
   "id": "6a0d9170-1595-4cb9-9377-1514c9bf24a5",
   "metadata": {},
   "source": [
    "Q5. How does the Ridge Regression model perform in the presence of multicollinearity?\n",
    "\n",
    "Answer ->"
   ]
  },
  {
   "cell_type": "markdown",
   "id": "8f6bdb0c-1cea-4019-a64a-7c93431dc1ab",
   "metadata": {},
   "source": [
    "Ridge Regression performs well in the presence of multicollinearity as it adds a penalty to the coefficients, reducing their variance \n",
    "and preventing overfitting.\n"
   ]
  },
  {
   "cell_type": "code",
   "execution_count": null,
   "id": "002bbaa1-0d83-467f-a009-afbf8cd715f6",
   "metadata": {},
   "outputs": [],
   "source": [
    "Q6. Can Ridge Regression handle both categorical and continuous independent variables?\n",
    "\n",
    "Answer ->"
   ]
  },
  {
   "cell_type": "markdown",
   "id": "f5309464-6114-4244-9c5a-21a77fe9d92e",
   "metadata": {},
   "source": [
    "Yes, Ridge Regression can handle both categorical and continuous independent variables, but categorical variables need to be properly \n",
    "encoded (e.g., using one-hot encoding) before being included in the model.\n"
   ]
  },
  {
   "cell_type": "markdown",
   "id": "cc14ed20-1498-42d3-a9b7-238000fd2155",
   "metadata": {},
   "source": [
    "Q7. How do you interpret the coefficients of Ridge Regression?\n",
    "\n",
    "Answer ->"
   ]
  },
  {
   "cell_type": "markdown",
   "id": "96222da9-27ca-40b1-bf17-77c054d51150",
   "metadata": {},
   "source": [
    "The coefficients in Ridge Regression represent the change in the dependent variable for a one-unit change in the independent variable, \n",
    "holding all other variables constant. However, due to regularization, their magnitudes are shrunk compared to OLS coefficients.\n"
   ]
  },
  {
   "cell_type": "code",
   "execution_count": null,
   "id": "a1017f8c-c34f-4202-a916-d505f5e46e24",
   "metadata": {},
   "outputs": [],
   "source": [
    "Q8. Can Ridge Regression be used for time-series data analysis? If yes, how?\n",
    "\n",
    "Answer ->"
   ]
  },
  {
   "cell_type": "markdown",
   "id": "514c140d-bedd-4176-86d0-a90d29349843",
   "metadata": {},
   "source": [
    "Yes, Ridge Regression can be used for time-series data analysis, but it should account for the time-dependent structure of the data. \n",
    "This can be done by including lagged variables or other transformations that respect the temporal order."
   ]
  }
 ],
 "metadata": {
  "kernelspec": {
   "display_name": "Python 3 (ipykernel)",
   "language": "python",
   "name": "python3"
  },
  "language_info": {
   "codemirror_mode": {
    "name": "ipython",
    "version": 3
   },
   "file_extension": ".py",
   "mimetype": "text/x-python",
   "name": "python",
   "nbconvert_exporter": "python",
   "pygments_lexer": "ipython3",
   "version": "3.10.8"
  }
 },
 "nbformat": 4,
 "nbformat_minor": 5
}
